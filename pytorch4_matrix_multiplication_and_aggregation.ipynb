{
  "nbformat": 4,
  "nbformat_minor": 0,
  "metadata": {
    "colab": {
      "provenance": [],
      "authorship_tag": "ABX9TyPIaeeuRMjMPhPEHRsxKcmZ",
      "include_colab_link": true
    },
    "kernelspec": {
      "name": "python3",
      "display_name": "Python 3"
    },
    "language_info": {
      "name": "python"
    }
  },
  "cells": [
    {
      "cell_type": "markdown",
      "metadata": {
        "id": "view-in-github",
        "colab_type": "text"
      },
      "source": [
        "<a href=\"https://colab.research.google.com/github/priyansh4320/Pytorch_practice/blob/main/pytorch4_matrix_multiplication_and_aggregation.ipynb\" target=\"_parent\"><img src=\"https://colab.research.google.com/assets/colab-badge.svg\" alt=\"Open In Colab\"/></a>"
      ]
    },
    {
      "cell_type": "code",
      "execution_count": 2,
      "metadata": {
        "colab": {
          "base_uri": "https://localhost:8080/",
          "height": 36
        },
        "id": "K3NXzSoeFvB7",
        "outputId": "8cf16f89-87e2-4b0d-a5ec-299bdff52a92"
      },
      "outputs": [
        {
          "output_type": "execute_result",
          "data": {
            "text/plain": [
              "'2.0.1+cu118'"
            ],
            "application/vnd.google.colaboratory.intrinsic+json": {
              "type": "string"
            }
          },
          "metadata": {},
          "execution_count": 2
        }
      ],
      "source": [
        "import torch\n",
        "torch.__version__"
      ]
    },
    {
      "cell_type": "markdown",
      "source": [
        "# tensor"
      ],
      "metadata": {
        "id": "GF0_lxaTGjvq"
      }
    },
    {
      "cell_type": "code",
      "source": [
        "#type1\n",
        "#scaler\n",
        "scaler = torch.tensor(4)\n",
        "scaler"
      ],
      "metadata": {
        "colab": {
          "base_uri": "https://localhost:8080/"
        },
        "id": "6HsE6s5TGV82",
        "outputId": "4c569538-178b-409b-f21e-914863db32f9"
      },
      "execution_count": null,
      "outputs": [
        {
          "output_type": "execute_result",
          "data": {
            "text/plain": [
              "tensor(4)"
            ]
          },
          "metadata": {},
          "execution_count": 3
        }
      ]
    },
    {
      "cell_type": "code",
      "source": [
        "scaler.ndim"
      ],
      "metadata": {
        "colab": {
          "base_uri": "https://localhost:8080/"
        },
        "id": "ZRXMb7dNGxv4",
        "outputId": "79733743-7080-4dce-a8e0-c578adb15add"
      },
      "execution_count": null,
      "outputs": [
        {
          "output_type": "execute_result",
          "data": {
            "text/plain": [
              "0"
            ]
          },
          "metadata": {},
          "execution_count": 4
        }
      ]
    },
    {
      "cell_type": "code",
      "source": [
        "# get tensor back to int\n",
        "scaler.item()"
      ],
      "metadata": {
        "colab": {
          "base_uri": "https://localhost:8080/"
        },
        "id": "dzz2Ub0oG6Rb",
        "outputId": "0b5f6b7b-8948-40e4-ace0-408388b719da"
      },
      "execution_count": null,
      "outputs": [
        {
          "output_type": "execute_result",
          "data": {
            "text/plain": [
              "4"
            ]
          },
          "metadata": {},
          "execution_count": 5
        }
      ]
    },
    {
      "cell_type": "code",
      "source": [
        "#type2\n",
        "#vector\n",
        "vector = torch.tensor([1,2,3,4])\n",
        "vector\n"
      ],
      "metadata": {
        "colab": {
          "base_uri": "https://localhost:8080/"
        },
        "id": "Fj7sN_FKHFds",
        "outputId": "91916e65-ac18-49b3-db65-df56ae56613a"
      },
      "execution_count": null,
      "outputs": [
        {
          "output_type": "execute_result",
          "data": {
            "text/plain": [
              "tensor([1, 2, 3, 4])"
            ]
          },
          "metadata": {},
          "execution_count": 6
        }
      ]
    },
    {
      "cell_type": "code",
      "source": [
        "vector.ndim"
      ],
      "metadata": {
        "colab": {
          "base_uri": "https://localhost:8080/"
        },
        "id": "7JewfMKJIdqD",
        "outputId": "b9a677ae-d6a1-4454-cc9a-56142c4f028a"
      },
      "execution_count": null,
      "outputs": [
        {
          "output_type": "execute_result",
          "data": {
            "text/plain": [
              "1"
            ]
          },
          "metadata": {},
          "execution_count": 7
        }
      ]
    },
    {
      "cell_type": "code",
      "source": [
        "vector.shape"
      ],
      "metadata": {
        "colab": {
          "base_uri": "https://localhost:8080/"
        },
        "id": "0DhgLHniIglC",
        "outputId": "20b3c3c4-1c09-41ed-902a-9ae00d1029b8"
      },
      "execution_count": null,
      "outputs": [
        {
          "output_type": "execute_result",
          "data": {
            "text/plain": [
              "torch.Size([4])"
            ]
          },
          "metadata": {},
          "execution_count": 8
        }
      ]
    },
    {
      "cell_type": "code",
      "source": [
        "#type 3\n",
        "#matrix\n",
        "matrix = torch.tensor([[1,2,3],[1,2,3],[1,2,3]])\n",
        "matrix"
      ],
      "metadata": {
        "colab": {
          "base_uri": "https://localhost:8080/"
        },
        "id": "mTd9e6b8Ikuk",
        "outputId": "581641ee-f8a2-4211-8190-eaf8db291ef9"
      },
      "execution_count": null,
      "outputs": [
        {
          "output_type": "execute_result",
          "data": {
            "text/plain": [
              "tensor([[1, 2, 3],\n",
              "        [1, 2, 3],\n",
              "        [1, 2, 3]])"
            ]
          },
          "metadata": {},
          "execution_count": 9
        }
      ]
    },
    {
      "cell_type": "code",
      "source": [
        "matrix.ndim"
      ],
      "metadata": {
        "colab": {
          "base_uri": "https://localhost:8080/"
        },
        "id": "eAvVhF-fIzrY",
        "outputId": "02deb7e9-80ab-4944-907b-1b7a5a9d0265"
      },
      "execution_count": null,
      "outputs": [
        {
          "output_type": "execute_result",
          "data": {
            "text/plain": [
              "2"
            ]
          },
          "metadata": {},
          "execution_count": 10
        }
      ]
    },
    {
      "cell_type": "code",
      "source": [
        "matrix.shape"
      ],
      "metadata": {
        "colab": {
          "base_uri": "https://localhost:8080/"
        },
        "id": "VwYgOT33I2fN",
        "outputId": "1ca87b65-0133-434a-ddc8-27719446d07d"
      },
      "execution_count": null,
      "outputs": [
        {
          "output_type": "execute_result",
          "data": {
            "text/plain": [
              "torch.Size([3, 3])"
            ]
          },
          "metadata": {},
          "execution_count": 11
        }
      ]
    },
    {
      "cell_type": "code",
      "source": [
        "#type 4\n",
        "#tensor\n",
        "tensor = torch.tensor([[[1,2,3],[1,2,3],[1,2,3]]])\n",
        "tensor"
      ],
      "metadata": {
        "colab": {
          "base_uri": "https://localhost:8080/"
        },
        "id": "3s_bU_VOI6o6",
        "outputId": "ae877beb-a85c-430d-b2b1-1222bbb32ae7"
      },
      "execution_count": null,
      "outputs": [
        {
          "output_type": "execute_result",
          "data": {
            "text/plain": [
              "tensor([[[1, 2, 3],\n",
              "         [1, 2, 3],\n",
              "         [1, 2, 3]]])"
            ]
          },
          "metadata": {},
          "execution_count": 12
        }
      ]
    },
    {
      "cell_type": "code",
      "source": [
        "tensor.ndim"
      ],
      "metadata": {
        "colab": {
          "base_uri": "https://localhost:8080/"
        },
        "id": "3RAXKJnXJFOq",
        "outputId": "df6bd4f1-75f7-4657-eb3a-e65f79b29706"
      },
      "execution_count": null,
      "outputs": [
        {
          "output_type": "execute_result",
          "data": {
            "text/plain": [
              "3"
            ]
          },
          "metadata": {},
          "execution_count": 13
        }
      ]
    },
    {
      "cell_type": "code",
      "source": [
        "tensor.shape"
      ],
      "metadata": {
        "colab": {
          "base_uri": "https://localhost:8080/"
        },
        "id": "XfxnkTBhJIUw",
        "outputId": "6a58ea3b-fb6c-4c26-c4bd-45aa568862cf"
      },
      "execution_count": null,
      "outputs": [
        {
          "output_type": "execute_result",
          "data": {
            "text/plain": [
              "torch.Size([1, 3, 3])"
            ]
          },
          "metadata": {},
          "execution_count": 14
        }
      ]
    },
    {
      "cell_type": "markdown",
      "source": [
        "### Random Tensors\n",
        "random tensors are important because the way many neural network learn is that they start with tensors full of random numbers and then adjust those numbers to better represent the data.\n",
        "\n",
        "\n",
        "\n",
        "``\n",
        "start with random mo.--> look at data--> update random no--> look at data-->update random no.\n",
        "``\n",
        "\n"
      ],
      "metadata": {
        "id": "x586etk0KWZZ"
      }
    },
    {
      "cell_type": "code",
      "source": [
        "# create a random tensor of size(3,4)\n",
        "random_tensor = torch.rand(3,4)\n",
        "random_tensor"
      ],
      "metadata": {
        "colab": {
          "base_uri": "https://localhost:8080/"
        },
        "id": "KLs9pYRPKVD_",
        "outputId": "3825114f-5b6d-4750-fd27-009e29c27bcb"
      },
      "execution_count": null,
      "outputs": [
        {
          "output_type": "execute_result",
          "data": {
            "text/plain": [
              "tensor([[0.5913, 0.5086, 0.1337, 0.8002],\n",
              "        [0.9361, 0.3679, 0.3383, 0.1587],\n",
              "        [0.0965, 0.3438, 0.1352, 0.3310]])"
            ]
          },
          "metadata": {},
          "execution_count": 15
        }
      ]
    },
    {
      "cell_type": "code",
      "source": [
        "# create a random tensor with similar shape to image tensor\n",
        "random_image_size_tensor = torch.rand(size=(3,256,256)) # height=256 , width=256, color channels=3\n",
        "random_image_size_tensor.shape , random_image_size_tensor.ndim"
      ],
      "metadata": {
        "colab": {
          "base_uri": "https://localhost:8080/"
        },
        "id": "436uU80QMpwm",
        "outputId": "a6510ec1-63b7-498c-f3b5-9f26a6f60237"
      },
      "execution_count": null,
      "outputs": [
        {
          "output_type": "execute_result",
          "data": {
            "text/plain": [
              "(torch.Size([3, 256, 256]), 3)"
            ]
          },
          "metadata": {},
          "execution_count": 17
        }
      ]
    },
    {
      "cell_type": "code",
      "source": [
        "random_image_size_tensor"
      ],
      "metadata": {
        "colab": {
          "base_uri": "https://localhost:8080/"
        },
        "id": "gzqFSVfpNNcp",
        "outputId": "fbd4a40c-22f0-4922-c205-ddc4cd2b46c4"
      },
      "execution_count": null,
      "outputs": [
        {
          "output_type": "execute_result",
          "data": {
            "text/plain": [
              "tensor([[[0.2824, 0.2745, 0.6158,  ..., 0.6479, 0.2988, 0.8560],\n",
              "         [0.4281, 0.2199, 0.7767,  ..., 0.2755, 0.0052, 0.2118],\n",
              "         [0.3612, 0.1992, 0.4433,  ..., 0.0954, 0.9924, 0.6944],\n",
              "         ...,\n",
              "         [0.7862, 0.7713, 0.3650,  ..., 0.2182, 0.4303, 0.9526],\n",
              "         [0.9229, 0.9599, 0.9974,  ..., 0.0299, 0.2984, 0.6251],\n",
              "         [0.1856, 0.0349, 0.6207,  ..., 0.2957, 0.5707, 0.1681]],\n",
              "\n",
              "        [[0.9258, 0.5036, 0.8306,  ..., 0.3870, 0.2532, 0.7350],\n",
              "         [0.7536, 0.2946, 0.7431,  ..., 0.0420, 0.4212, 0.1326],\n",
              "         [0.5378, 0.0407, 0.1316,  ..., 0.0905, 0.2531, 0.9329],\n",
              "         ...,\n",
              "         [0.1199, 0.5617, 0.5909,  ..., 0.0167, 0.6343, 0.2092],\n",
              "         [0.8313, 0.6360, 0.3820,  ..., 0.1947, 0.0649, 0.5602],\n",
              "         [0.4853, 0.4424, 0.9178,  ..., 0.8765, 0.0889, 0.9085]],\n",
              "\n",
              "        [[0.8646, 0.5384, 0.3831,  ..., 0.2100, 0.8470, 0.9707],\n",
              "         [0.4488, 0.4819, 0.9149,  ..., 0.3170, 0.5615, 0.8888],\n",
              "         [0.9000, 0.5103, 0.2313,  ..., 0.7610, 0.1317, 0.9776],\n",
              "         ...,\n",
              "         [0.1510, 0.2729, 0.7742,  ..., 0.8653, 0.8506, 0.5601],\n",
              "         [0.1216, 0.8310, 0.4392,  ..., 0.6535, 0.7149, 0.6805],\n",
              "         [0.8994, 0.4950, 0.8987,  ..., 0.9663, 0.1954, 0.4277]]])"
            ]
          },
          "metadata": {},
          "execution_count": 18
        }
      ]
    },
    {
      "cell_type": "markdown",
      "source": [
        "### Zero tensor\n",
        "a tensor containing all zeros"
      ],
      "metadata": {
        "id": "9lKqSPxhQXTL"
      }
    },
    {
      "cell_type": "code",
      "source": [
        "zero_tensor = torch.zeros(size=(1,4,3))\n",
        "zero_tensor"
      ],
      "metadata": {
        "id": "FlUm40i-NTak",
        "colab": {
          "base_uri": "https://localhost:8080/"
        },
        "outputId": "fdc7c05a-0a0b-416d-92cc-b14edd5491a0"
      },
      "execution_count": null,
      "outputs": [
        {
          "output_type": "execute_result",
          "data": {
            "text/plain": [
              "tensor([[[0., 0., 0.],\n",
              "         [0., 0., 0.],\n",
              "         [0., 0., 0.],\n",
              "         [0., 0., 0.]]])"
            ]
          },
          "metadata": {},
          "execution_count": 5
        }
      ]
    },
    {
      "cell_type": "markdown",
      "source": [
        "### Range Tensor\n",
        "tensor with a range"
      ],
      "metadata": {
        "id": "RJF9PYXVRXwS"
      }
    },
    {
      "cell_type": "code",
      "source": [
        "range_tensor = torch.arange(1,10)\n",
        "range_tensor"
      ],
      "metadata": {
        "colab": {
          "base_uri": "https://localhost:8080/"
        },
        "id": "UnfJcBP5RDxO",
        "outputId": "0a77d137-c461-4418-93e9-813300b7939a"
      },
      "execution_count": null,
      "outputs": [
        {
          "output_type": "execute_result",
          "data": {
            "text/plain": [
              "tensor([1, 2, 3, 4, 5, 6, 7, 8, 9])"
            ]
          },
          "metadata": {},
          "execution_count": 6
        }
      ]
    },
    {
      "cell_type": "code",
      "source": [
        "range_tensor = torch.arange(start=1,end=100,step=25) #step : gap in range 1+25 ,25+25 etc\n",
        "range_tensor"
      ],
      "metadata": {
        "colab": {
          "base_uri": "https://localhost:8080/"
        },
        "id": "bsWJPQCzSwZ8",
        "outputId": "3beb8316-2313-40ab-fb65-37633272b42b"
      },
      "execution_count": null,
      "outputs": [
        {
          "output_type": "execute_result",
          "data": {
            "text/plain": [
              "tensor([ 1, 26, 51, 76])"
            ]
          },
          "metadata": {},
          "execution_count": 7
        }
      ]
    },
    {
      "cell_type": "code",
      "source": [
        "# Reshape as 2x2 or matrix tensor\n",
        "range_tensor.reshape(2,2)"
      ],
      "metadata": {
        "colab": {
          "base_uri": "https://localhost:8080/"
        },
        "id": "5RfO6RK4Thkm",
        "outputId": "edea652d-945e-4451-959b-5925a84dbd0b"
      },
      "execution_count": null,
      "outputs": [
        {
          "output_type": "execute_result",
          "data": {
            "text/plain": [
              "tensor([[ 1, 26],\n",
              "        [51, 76]])"
            ]
          },
          "metadata": {},
          "execution_count": 14
        }
      ]
    },
    {
      "cell_type": "markdown",
      "source": [
        "# Tensor Datatypes\n",
        "\n",
        "**Note:** tensor datatypes is reason for one of the 3 big errors you'll run into with pytorch.\n",
        "1. tensor not right datatype\n",
        "2. tensor not right shape\n",
        "3. tensor not on right device"
      ],
      "metadata": {
        "id": "5YC6F64uUMXW"
      }
    },
    {
      "cell_type": "code",
      "source": [
        "#float32 tensor\n",
        "float32_tensor = torch.tensor([1.,2.,3.,4.],dtype=None)\n",
        "float32_tensor"
      ],
      "metadata": {
        "colab": {
          "base_uri": "https://localhost:8080/"
        },
        "id": "NFHdJm_yUJPX",
        "outputId": "6e0f50ef-d4a0-4bad-f077-6135789d6221"
      },
      "execution_count": null,
      "outputs": [
        {
          "output_type": "execute_result",
          "data": {
            "text/plain": [
              "tensor([1., 2., 3., 4.])"
            ]
          },
          "metadata": {},
          "execution_count": 18
        }
      ]
    },
    {
      "cell_type": "code",
      "source": [
        "float32_tensor.dtype #default tensor type is float32"
      ],
      "metadata": {
        "colab": {
          "base_uri": "https://localhost:8080/"
        },
        "id": "INkD0Tb4ULI8",
        "outputId": "a637de88-7698-48f1-f31a-d5c693eb9fb1"
      },
      "execution_count": null,
      "outputs": [
        {
          "output_type": "execute_result",
          "data": {
            "text/plain": [
              "torch.float32"
            ]
          },
          "metadata": {},
          "execution_count": 19
        }
      ]
    },
    {
      "cell_type": "code",
      "source": [
        "#three main parameter for tensor datatype\n",
        "float32_tensor = torch.tensor([1.,2.,3.,4.],\n",
        "                              dtype = None,   # what datatype is tensor(e.g float32 or float16)\n",
        "                              device= None,   # what device is your tensor on\n",
        "                              requires_grad=False) # whether or not to track gradlines\n",
        "float32_tensor"
      ],
      "metadata": {
        "colab": {
          "base_uri": "https://localhost:8080/"
        },
        "id": "8gurrZNyULBe",
        "outputId": "0ec26a56-dafb-4cb7-cd2f-41f85368055a"
      },
      "execution_count": null,
      "outputs": [
        {
          "output_type": "execute_result",
          "data": {
            "text/plain": [
              "tensor([1., 2., 3., 4.])"
            ]
          },
          "metadata": {},
          "execution_count": 20
        }
      ]
    },
    {
      "cell_type": "code",
      "source": [
        "float32_tensor.dtype"
      ],
      "metadata": {
        "colab": {
          "base_uri": "https://localhost:8080/"
        },
        "id": "81SDbOJWUK9H",
        "outputId": "a2b02229-9f2a-4465-ee30-7dcb7be0265c"
      },
      "execution_count": null,
      "outputs": [
        {
          "output_type": "execute_result",
          "data": {
            "text/plain": [
              "torch.float32"
            ]
          },
          "metadata": {},
          "execution_count": 21
        }
      ]
    },
    {
      "cell_type": "code",
      "source": [
        "# change datatype of tensor\n",
        "float16_tensor = float32_tensor.type(torch.float16)\n",
        "float16_tensor"
      ],
      "metadata": {
        "colab": {
          "base_uri": "https://localhost:8080/"
        },
        "id": "0tFhUz97YWQ1",
        "outputId": "82973404-d9f5-4e28-eb41-549ef0cc1e56"
      },
      "execution_count": null,
      "outputs": [
        {
          "output_type": "execute_result",
          "data": {
            "text/plain": [
              "tensor([1., 2., 3., 4.], dtype=torch.float16)"
            ]
          },
          "metadata": {},
          "execution_count": 22
        }
      ]
    },
    {
      "cell_type": "code",
      "source": [
        "float16_tensor * float32_tensor"
      ],
      "metadata": {
        "colab": {
          "base_uri": "https://localhost:8080/"
        },
        "id": "1-nlLIrtYWjV",
        "outputId": "b9a89c6d-6535-4731-bc2a-e7130ada6902"
      },
      "execution_count": null,
      "outputs": [
        {
          "output_type": "execute_result",
          "data": {
            "text/plain": [
              "tensor([ 1.,  4.,  9., 16.])"
            ]
          },
          "metadata": {},
          "execution_count": 24
        }
      ]
    },
    {
      "cell_type": "markdown",
      "source": [
        "### Check details of tensor\n",
        "1. tensor not right datatype- use `tensor.dtype ` to check datatype\n",
        "2. tensor not right shape - use `tensor.shape` to check shape\n",
        "3. tensor not on right device - use `tensor.device` to check which device is tensor on."
      ],
      "metadata": {
        "id": "XsEDbatUaXlZ"
      }
    },
    {
      "cell_type": "code",
      "source": [
        "random_tensor = torch.rand(size=(3,3))\n",
        "print(\"datatype: \",random_tensor.dtype)\n",
        "print(\"shape: \",random_tensor.shape)\n",
        "print(\"device: \",random_tensor.device)\n"
      ],
      "metadata": {
        "colab": {
          "base_uri": "https://localhost:8080/"
        },
        "id": "Ko174ONJYW3J",
        "outputId": "f9c693b1-cd7e-4cfd-b5fd-86dc55f175b1"
      },
      "execution_count": null,
      "outputs": [
        {
          "output_type": "stream",
          "name": "stdout",
          "text": [
            "datatype:  torch.float32\n",
            "shape:  torch.Size([3, 3])\n",
            "device:  cpu\n"
          ]
        }
      ]
    },
    {
      "cell_type": "markdown",
      "source": [
        "# tensor manipulation\n",
        " it includes set of operations:\n",
        " 1. add\n",
        " 2. subt\n",
        " 3. multipy(element-wise)\n",
        " 4. divide\n",
        " 5. matrix mutiplication"
      ],
      "metadata": {
        "id": "0fcTP5xbOoC3"
      }
    },
    {
      "cell_type": "code",
      "source": [
        "# add\n",
        "some_tensor = torch.tensor([1,2,3,4])\n",
        "some_tensor + 10"
      ],
      "metadata": {
        "id": "sWZ1JUUObjRw",
        "colab": {
          "base_uri": "https://localhost:8080/"
        },
        "outputId": "f81ced0b-00c1-4d23-fdac-07a801e7e0c5"
      },
      "execution_count": 3,
      "outputs": [
        {
          "output_type": "execute_result",
          "data": {
            "text/plain": [
              "tensor([11, 12, 13, 14])"
            ]
          },
          "metadata": {},
          "execution_count": 3
        }
      ]
    },
    {
      "cell_type": "code",
      "source": [
        "#subt\n",
        "some_tensor - 10"
      ],
      "metadata": {
        "colab": {
          "base_uri": "https://localhost:8080/"
        },
        "id": "iRN9A-rzPULz",
        "outputId": "23cdc57c-bdca-4e5d-89a4-b61b2b5619a3"
      },
      "execution_count": 4,
      "outputs": [
        {
          "output_type": "execute_result",
          "data": {
            "text/plain": [
              "tensor([-9, -8, -7, -6])"
            ]
          },
          "metadata": {},
          "execution_count": 4
        }
      ]
    },
    {
      "cell_type": "code",
      "source": [
        "# mutiply (element-wise)\n",
        "some_tensor * 10"
      ],
      "metadata": {
        "colab": {
          "base_uri": "https://localhost:8080/"
        },
        "id": "45XoRkwnPYmg",
        "outputId": "1c4ab4fe-e51e-4bd7-a9a4-24d8e041d4d2"
      },
      "execution_count": 5,
      "outputs": [
        {
          "output_type": "execute_result",
          "data": {
            "text/plain": [
              "tensor([10, 20, 30, 40])"
            ]
          },
          "metadata": {},
          "execution_count": 5
        }
      ]
    },
    {
      "cell_type": "code",
      "source": [
        "#divide\n",
        "some_tensor / 10"
      ],
      "metadata": {
        "colab": {
          "base_uri": "https://localhost:8080/"
        },
        "id": "2qmFebHIPef8",
        "outputId": "f86d9d40-5b67-4573-a658-c33e6ddd0670"
      },
      "execution_count": 6,
      "outputs": [
        {
          "output_type": "execute_result",
          "data": {
            "text/plain": [
              "tensor([0.1000, 0.2000, 0.3000, 0.4000])"
            ]
          },
          "metadata": {},
          "execution_count": 6
        }
      ]
    },
    {
      "cell_type": "code",
      "source": [
        "#useing inbuilt function\n",
        "print(torch.add(some_tensor,10))  #add method\n",
        "print(torch.sub(some_tensor,10))  #subt method\n",
        "print(torch.mul(some_tensor,10))  # multiply method\n",
        "print(torch.div(some_tensor,10))  #division method"
      ],
      "metadata": {
        "colab": {
          "base_uri": "https://localhost:8080/"
        },
        "id": "tb3tw_7FPjxS",
        "outputId": "db91a436-5d42-45c9-b0ad-d4484343cd2e"
      },
      "execution_count": 8,
      "outputs": [
        {
          "output_type": "stream",
          "name": "stdout",
          "text": [
            "tensor([11, 12, 13, 14])\n",
            "tensor([-9, -8, -7, -6])\n",
            "tensor([10, 20, 30, 40])\n",
            "tensor([0.1000, 0.2000, 0.3000, 0.4000])\n"
          ]
        }
      ]
    },
    {
      "cell_type": "markdown",
      "source": [
        "### matrix multiplication\n",
        "two ways to multiply matrix:\n",
        "1. element-wise\n",
        "2. dot product\n",
        "\n",
        "two basic rules of matrix multiplication (dot product):\n",
        "1. inner dimension must match\n",
        "- (3,2) * (3,2) : 'won't work'\n",
        "- (2,**3**) * (**3**,2) : 'will work'\n",
        "\n",
        "2. result matrix has shape of outer dimension\n",
        "- (2,3) * (3,2) --> (2,2)\n",
        "- (3,2) * (2,3) --> (3,3)"
      ],
      "metadata": {
        "id": "MZdWZK7MQPbT"
      }
    },
    {
      "cell_type": "code",
      "source": [
        "# matmul method (use dot product method)\n",
        "some_tensor = torch.tensor([1,2,3])\n",
        "torch.matmul(some_tensor, some_tensor)"
      ],
      "metadata": {
        "colab": {
          "base_uri": "https://localhost:8080/"
        },
        "id": "cGm578IuQM4C",
        "outputId": "240c6399-186d-44a7-cdb1-339f63d5b763"
      },
      "execution_count": 9,
      "outputs": [
        {
          "output_type": "execute_result",
          "data": {
            "text/plain": [
              "tensor(14)"
            ]
          },
          "metadata": {},
          "execution_count": 9
        }
      ]
    },
    {
      "cell_type": "code",
      "source": [
        "#manual dot product\n",
        "# [1,2,3] matmul [1,2,3]\n",
        "# =\n",
        "1*1 + 2*2 + 3*3"
      ],
      "metadata": {
        "colab": {
          "base_uri": "https://localhost:8080/"
        },
        "id": "6ROjuWm6Ug5K",
        "outputId": "06aa6a50-da6c-46dd-9eb0-255de4ac0718"
      },
      "execution_count": 11,
      "outputs": [
        {
          "output_type": "execute_result",
          "data": {
            "text/plain": [
              "14"
            ]
          },
          "metadata": {},
          "execution_count": 11
        }
      ]
    },
    {
      "cell_type": "code",
      "source": [
        "# element-wise\n",
        "some_tensor * some_tensor"
      ],
      "metadata": {
        "colab": {
          "base_uri": "https://localhost:8080/"
        },
        "id": "tS6DIAl_UNZj",
        "outputId": "ecad4859-1cfa-4c9d-c0d0-eef07495652a"
      },
      "execution_count": 10,
      "outputs": [
        {
          "output_type": "execute_result",
          "data": {
            "text/plain": [
              "tensor([1, 4, 9])"
            ]
          },
          "metadata": {},
          "execution_count": 10
        }
      ]
    },
    {
      "cell_type": "markdown",
      "source": [
        "### common error : shape error\n",
        "let's reproduce the error"
      ],
      "metadata": {
        "id": "xfHiN2B6WiRU"
      }
    },
    {
      "cell_type": "code",
      "source": [
        "tensor_A = torch.rand(3,2)\n",
        "tensor_B = torch. rand(3,2)\n",
        "torch.matmul(tensor_A,tensor_B)"
      ],
      "metadata": {
        "colab": {
          "base_uri": "https://localhost:8080/",
          "height": 210
        },
        "id": "PergcRKnWeF2",
        "outputId": "2d682458-c09f-41b6-f0ea-9c01b8f83cfb"
      },
      "execution_count": 13,
      "outputs": [
        {
          "output_type": "error",
          "ename": "RuntimeError",
          "evalue": "ignored",
          "traceback": [
            "\u001b[0;31m---------------------------------------------------------------------------\u001b[0m",
            "\u001b[0;31mRuntimeError\u001b[0m                              Traceback (most recent call last)",
            "\u001b[0;32m<ipython-input-13-c9848f48ef01>\u001b[0m in \u001b[0;36m<cell line: 3>\u001b[0;34m()\u001b[0m\n\u001b[1;32m      1\u001b[0m \u001b[0mtensor_A\u001b[0m \u001b[0;34m=\u001b[0m \u001b[0mtorch\u001b[0m\u001b[0;34m.\u001b[0m\u001b[0mrand\u001b[0m\u001b[0;34m(\u001b[0m\u001b[0;36m3\u001b[0m\u001b[0;34m,\u001b[0m\u001b[0;36m2\u001b[0m\u001b[0;34m)\u001b[0m\u001b[0;34m\u001b[0m\u001b[0;34m\u001b[0m\u001b[0m\n\u001b[1;32m      2\u001b[0m \u001b[0mtensor_B\u001b[0m \u001b[0;34m=\u001b[0m \u001b[0mtorch\u001b[0m\u001b[0;34m.\u001b[0m \u001b[0mrand\u001b[0m\u001b[0;34m(\u001b[0m\u001b[0;36m3\u001b[0m\u001b[0;34m,\u001b[0m\u001b[0;36m2\u001b[0m\u001b[0;34m)\u001b[0m\u001b[0;34m\u001b[0m\u001b[0;34m\u001b[0m\u001b[0m\n\u001b[0;32m----> 3\u001b[0;31m \u001b[0mtorch\u001b[0m\u001b[0;34m.\u001b[0m\u001b[0mmatmul\u001b[0m\u001b[0;34m(\u001b[0m\u001b[0mtensor_A\u001b[0m\u001b[0;34m,\u001b[0m\u001b[0mtensor_B\u001b[0m\u001b[0;34m)\u001b[0m\u001b[0;34m\u001b[0m\u001b[0;34m\u001b[0m\u001b[0m\n\u001b[0m",
            "\u001b[0;31mRuntimeError\u001b[0m: mat1 and mat2 shapes cannot be multiplied (3x2 and 3x2)"
          ]
        }
      ]
    },
    {
      "cell_type": "markdown",
      "source": [
        "### transpose\n",
        "- this method can be used to get rid of this error\n",
        "- it shift the dimension of the matrix"
      ],
      "metadata": {
        "id": "L-T2bnvpX1zL"
      }
    },
    {
      "cell_type": "code",
      "source": [
        "# tensor.T is is used to transpose a tensor\n",
        "torch.matmul(tensor_A,tensor_B.T)  # we transposed tensor_B using .T"
      ],
      "metadata": {
        "colab": {
          "base_uri": "https://localhost:8080/"
        },
        "id": "8EX3_dgGWe1a",
        "outputId": "2a99f590-42c6-41f0-f719-ef5f63d254d4"
      },
      "execution_count": 14,
      "outputs": [
        {
          "output_type": "execute_result",
          "data": {
            "text/plain": [
              "tensor([[0.1818, 0.6293, 0.4455],\n",
              "        [0.0501, 0.5176, 0.3002],\n",
              "        [0.2803, 0.2949, 0.3389]])"
            ]
          },
          "metadata": {},
          "execution_count": 14
        }
      ]
    },
    {
      "cell_type": "code",
      "source": [
        "# let's look at the shape\n",
        "print(\"original: \",tensor_A.shape, tensor_B.shape)\n",
        "print(\"After Transpose B: \",tensor_A.shape, tensor_B.T.shape) #inner dim must match"
      ],
      "metadata": {
        "colab": {
          "base_uri": "https://localhost:8080/"
        },
        "id": "abIWZ6G5WfYK",
        "outputId": "9905dc29-f596-4ff8-a0df-151de93978d3"
      },
      "execution_count": 16,
      "outputs": [
        {
          "output_type": "stream",
          "name": "stdout",
          "text": [
            "original:  torch.Size([3, 2]) torch.Size([3, 2])\n",
            "After Transpose B:  torch.Size([3, 2]) torch.Size([2, 3])\n"
          ]
        }
      ]
    },
    {
      "cell_type": "markdown",
      "source": [
        "# Tensor aggregation\n",
        "1. min\n",
        "2. max\n",
        "3. mean\n",
        "4. sum"
      ],
      "metadata": {
        "id": "TAjW0565ZY-R"
      }
    },
    {
      "cell_type": "code",
      "source": [
        "tensor_A = torch.arange(0,100,10)\n",
        "tensor_A"
      ],
      "metadata": {
        "colab": {
          "base_uri": "https://localhost:8080/"
        },
        "id": "JA60fUzIWfnA",
        "outputId": "15fc63b9-e355-46f0-bd4e-34f006c0ecc9"
      },
      "execution_count": 18,
      "outputs": [
        {
          "output_type": "execute_result",
          "data": {
            "text/plain": [
              "tensor([ 0, 10, 20, 30, 40, 50, 60, 70, 80, 90])"
            ]
          },
          "metadata": {},
          "execution_count": 18
        }
      ]
    },
    {
      "cell_type": "code",
      "source": [
        "# two ways to aggreagate\n",
        "# min\n",
        "torch.min(tensor_A)  ,  tensor_A.min()"
      ],
      "metadata": {
        "colab": {
          "base_uri": "https://localhost:8080/"
        },
        "id": "PpQEEk1yWf87",
        "outputId": "38a6693b-f40a-475c-b96c-c84e94066738"
      },
      "execution_count": 19,
      "outputs": [
        {
          "output_type": "execute_result",
          "data": {
            "text/plain": [
              "(tensor(0), tensor(0))"
            ]
          },
          "metadata": {},
          "execution_count": 19
        }
      ]
    },
    {
      "cell_type": "code",
      "source": [
        "#max\n",
        "torch.max(tensor_A) ,   tensor_A.max()"
      ],
      "metadata": {
        "colab": {
          "base_uri": "https://localhost:8080/"
        },
        "id": "feJgPGF-awXY",
        "outputId": "7cac2d9e-4796-4114-fc92-fea7eb7a4793"
      },
      "execution_count": 20,
      "outputs": [
        {
          "output_type": "execute_result",
          "data": {
            "text/plain": [
              "(tensor(90), tensor(90))"
            ]
          },
          "metadata": {},
          "execution_count": 20
        }
      ]
    },
    {
      "cell_type": "markdown",
      "source": [
        "### common error: datatype not correct\n",
        "let's produce the ERROR"
      ],
      "metadata": {
        "id": "E8Szb4Tka54y"
      }
    },
    {
      "cell_type": "code",
      "source": [
        "#MEAN\n",
        "torch.mean(tensor_A) # here we get error because tensor is of type int64 == Long"
      ],
      "metadata": {
        "colab": {
          "base_uri": "https://localhost:8080/",
          "height": 210
        },
        "id": "DW1ZCIBSa4yg",
        "outputId": "69d6e919-72ba-4af6-954c-121e4810eb6a"
      },
      "execution_count": 21,
      "outputs": [
        {
          "output_type": "error",
          "ename": "RuntimeError",
          "evalue": "ignored",
          "traceback": [
            "\u001b[0;31m---------------------------------------------------------------------------\u001b[0m",
            "\u001b[0;31mRuntimeError\u001b[0m                              Traceback (most recent call last)",
            "\u001b[0;32m<ipython-input-21-c4ab01a3a4d4>\u001b[0m in \u001b[0;36m<cell line: 2>\u001b[0;34m()\u001b[0m\n\u001b[1;32m      1\u001b[0m \u001b[0;31m#MEAN\u001b[0m\u001b[0;34m\u001b[0m\u001b[0;34m\u001b[0m\u001b[0m\n\u001b[0;32m----> 2\u001b[0;31m \u001b[0mtorch\u001b[0m\u001b[0;34m.\u001b[0m\u001b[0mmean\u001b[0m\u001b[0;34m(\u001b[0m\u001b[0mtensor_A\u001b[0m\u001b[0;34m)\u001b[0m\u001b[0;34m\u001b[0m\u001b[0;34m\u001b[0m\u001b[0m\n\u001b[0m",
            "\u001b[0;31mRuntimeError\u001b[0m: mean(): could not infer output dtype. Input dtype must be either a floating point or complex dtype. Got: Long"
          ]
        }
      ]
    },
    {
      "cell_type": "code",
      "source": [
        "#mean : require float32 type tensor default\n",
        "# change to type of tensor to float32\n",
        "torch.mean(tensor_A.type(torch.float32))  , tensor_A.type(torch.float32).mean()"
      ],
      "metadata": {
        "colab": {
          "base_uri": "https://localhost:8080/"
        },
        "id": "IghiNj8LbWN4",
        "outputId": "66ccd5f6-3b42-4373-c3c7-353cf598bcf5"
      },
      "execution_count": 22,
      "outputs": [
        {
          "output_type": "execute_result",
          "data": {
            "text/plain": [
              "(tensor(45.), tensor(45.))"
            ]
          },
          "metadata": {},
          "execution_count": 22
        }
      ]
    },
    {
      "cell_type": "code",
      "source": [
        "#sum\n",
        "torch.sum(tensor_A)  ,  tensor_A.sum()"
      ],
      "metadata": {
        "colab": {
          "base_uri": "https://localhost:8080/"
        },
        "id": "OLcVDraYbwAB",
        "outputId": "0a132890-981c-4fc1-af5c-fb31fe7a961d"
      },
      "execution_count": 23,
      "outputs": [
        {
          "output_type": "execute_result",
          "data": {
            "text/plain": [
              "(tensor(450), tensor(450))"
            ]
          },
          "metadata": {},
          "execution_count": 23
        }
      ]
    }
  ]
}