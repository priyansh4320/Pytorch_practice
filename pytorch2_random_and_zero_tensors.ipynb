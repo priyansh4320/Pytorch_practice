{
  "nbformat": 4,
  "nbformat_minor": 0,
  "metadata": {
    "colab": {
      "provenance": [],
      "authorship_tag": "ABX9TyPMtRdn5ohU1PZdS7jpifhm",
      "include_colab_link": true
    },
    "kernelspec": {
      "name": "python3",
      "display_name": "Python 3"
    },
    "language_info": {
      "name": "python"
    }
  },
  "cells": [
    {
      "cell_type": "markdown",
      "metadata": {
        "id": "view-in-github",
        "colab_type": "text"
      },
      "source": [
        "<a href=\"https://colab.research.google.com/github/priyansh4320/Pytorch_practice/blob/main/pytorch2_random_and_zero_tensors.ipynb\" target=\"_parent\"><img src=\"https://colab.research.google.com/assets/colab-badge.svg\" alt=\"Open In Colab\"/></a>"
      ]
    },
    {
      "cell_type": "code",
      "execution_count": 1,
      "metadata": {
        "colab": {
          "base_uri": "https://localhost:8080/",
          "height": 36
        },
        "id": "K3NXzSoeFvB7",
        "outputId": "9eb047e5-ebbf-40d6-d14a-3e4096d08379"
      },
      "outputs": [
        {
          "output_type": "execute_result",
          "data": {
            "text/plain": [
              "'2.0.1+cu118'"
            ],
            "application/vnd.google.colaboratory.intrinsic+json": {
              "type": "string"
            }
          },
          "metadata": {},
          "execution_count": 1
        }
      ],
      "source": [
        "import torch\n",
        "torch.__version__"
      ]
    },
    {
      "cell_type": "markdown",
      "source": [
        "# tensor"
      ],
      "metadata": {
        "id": "GF0_lxaTGjvq"
      }
    },
    {
      "cell_type": "code",
      "source": [
        "#type1\n",
        "#scaler\n",
        "scaler = torch.tensor(4)\n",
        "scaler"
      ],
      "metadata": {
        "colab": {
          "base_uri": "https://localhost:8080/"
        },
        "id": "6HsE6s5TGV82",
        "outputId": "4c569538-178b-409b-f21e-914863db32f9"
      },
      "execution_count": null,
      "outputs": [
        {
          "output_type": "execute_result",
          "data": {
            "text/plain": [
              "tensor(4)"
            ]
          },
          "metadata": {},
          "execution_count": 3
        }
      ]
    },
    {
      "cell_type": "code",
      "source": [
        "scaler.ndim"
      ],
      "metadata": {
        "colab": {
          "base_uri": "https://localhost:8080/"
        },
        "id": "ZRXMb7dNGxv4",
        "outputId": "79733743-7080-4dce-a8e0-c578adb15add"
      },
      "execution_count": null,
      "outputs": [
        {
          "output_type": "execute_result",
          "data": {
            "text/plain": [
              "0"
            ]
          },
          "metadata": {},
          "execution_count": 4
        }
      ]
    },
    {
      "cell_type": "code",
      "source": [
        "# get tensor back to int\n",
        "scaler.item()"
      ],
      "metadata": {
        "colab": {
          "base_uri": "https://localhost:8080/"
        },
        "id": "dzz2Ub0oG6Rb",
        "outputId": "0b5f6b7b-8948-40e4-ace0-408388b719da"
      },
      "execution_count": null,
      "outputs": [
        {
          "output_type": "execute_result",
          "data": {
            "text/plain": [
              "4"
            ]
          },
          "metadata": {},
          "execution_count": 5
        }
      ]
    },
    {
      "cell_type": "code",
      "source": [
        "#type2\n",
        "#vector\n",
        "vector = torch.tensor([1,2,3,4])\n",
        "vector\n"
      ],
      "metadata": {
        "colab": {
          "base_uri": "https://localhost:8080/"
        },
        "id": "Fj7sN_FKHFds",
        "outputId": "91916e65-ac18-49b3-db65-df56ae56613a"
      },
      "execution_count": null,
      "outputs": [
        {
          "output_type": "execute_result",
          "data": {
            "text/plain": [
              "tensor([1, 2, 3, 4])"
            ]
          },
          "metadata": {},
          "execution_count": 6
        }
      ]
    },
    {
      "cell_type": "code",
      "source": [
        "vector.ndim"
      ],
      "metadata": {
        "colab": {
          "base_uri": "https://localhost:8080/"
        },
        "id": "7JewfMKJIdqD",
        "outputId": "b9a677ae-d6a1-4454-cc9a-56142c4f028a"
      },
      "execution_count": null,
      "outputs": [
        {
          "output_type": "execute_result",
          "data": {
            "text/plain": [
              "1"
            ]
          },
          "metadata": {},
          "execution_count": 7
        }
      ]
    },
    {
      "cell_type": "code",
      "source": [
        "vector.shape"
      ],
      "metadata": {
        "colab": {
          "base_uri": "https://localhost:8080/"
        },
        "id": "0DhgLHniIglC",
        "outputId": "20b3c3c4-1c09-41ed-902a-9ae00d1029b8"
      },
      "execution_count": null,
      "outputs": [
        {
          "output_type": "execute_result",
          "data": {
            "text/plain": [
              "torch.Size([4])"
            ]
          },
          "metadata": {},
          "execution_count": 8
        }
      ]
    },
    {
      "cell_type": "code",
      "source": [
        "#type 3\n",
        "#matrix\n",
        "matrix = torch.tensor([[1,2,3],[1,2,3],[1,2,3]])\n",
        "matrix"
      ],
      "metadata": {
        "colab": {
          "base_uri": "https://localhost:8080/"
        },
        "id": "mTd9e6b8Ikuk",
        "outputId": "581641ee-f8a2-4211-8190-eaf8db291ef9"
      },
      "execution_count": null,
      "outputs": [
        {
          "output_type": "execute_result",
          "data": {
            "text/plain": [
              "tensor([[1, 2, 3],\n",
              "        [1, 2, 3],\n",
              "        [1, 2, 3]])"
            ]
          },
          "metadata": {},
          "execution_count": 9
        }
      ]
    },
    {
      "cell_type": "code",
      "source": [
        "matrix.ndim"
      ],
      "metadata": {
        "colab": {
          "base_uri": "https://localhost:8080/"
        },
        "id": "eAvVhF-fIzrY",
        "outputId": "02deb7e9-80ab-4944-907b-1b7a5a9d0265"
      },
      "execution_count": null,
      "outputs": [
        {
          "output_type": "execute_result",
          "data": {
            "text/plain": [
              "2"
            ]
          },
          "metadata": {},
          "execution_count": 10
        }
      ]
    },
    {
      "cell_type": "code",
      "source": [
        "matrix.shape"
      ],
      "metadata": {
        "colab": {
          "base_uri": "https://localhost:8080/"
        },
        "id": "VwYgOT33I2fN",
        "outputId": "1ca87b65-0133-434a-ddc8-27719446d07d"
      },
      "execution_count": null,
      "outputs": [
        {
          "output_type": "execute_result",
          "data": {
            "text/plain": [
              "torch.Size([3, 3])"
            ]
          },
          "metadata": {},
          "execution_count": 11
        }
      ]
    },
    {
      "cell_type": "code",
      "source": [
        "#type 4\n",
        "#tensor\n",
        "tensor = torch.tensor([[[1,2,3],[1,2,3],[1,2,3]]])\n",
        "tensor"
      ],
      "metadata": {
        "colab": {
          "base_uri": "https://localhost:8080/"
        },
        "id": "3s_bU_VOI6o6",
        "outputId": "ae877beb-a85c-430d-b2b1-1222bbb32ae7"
      },
      "execution_count": null,
      "outputs": [
        {
          "output_type": "execute_result",
          "data": {
            "text/plain": [
              "tensor([[[1, 2, 3],\n",
              "         [1, 2, 3],\n",
              "         [1, 2, 3]]])"
            ]
          },
          "metadata": {},
          "execution_count": 12
        }
      ]
    },
    {
      "cell_type": "code",
      "source": [
        "tensor.ndim"
      ],
      "metadata": {
        "colab": {
          "base_uri": "https://localhost:8080/"
        },
        "id": "3RAXKJnXJFOq",
        "outputId": "df6bd4f1-75f7-4657-eb3a-e65f79b29706"
      },
      "execution_count": null,
      "outputs": [
        {
          "output_type": "execute_result",
          "data": {
            "text/plain": [
              "3"
            ]
          },
          "metadata": {},
          "execution_count": 13
        }
      ]
    },
    {
      "cell_type": "code",
      "source": [
        "tensor.shape"
      ],
      "metadata": {
        "colab": {
          "base_uri": "https://localhost:8080/"
        },
        "id": "XfxnkTBhJIUw",
        "outputId": "6a58ea3b-fb6c-4c26-c4bd-45aa568862cf"
      },
      "execution_count": null,
      "outputs": [
        {
          "output_type": "execute_result",
          "data": {
            "text/plain": [
              "torch.Size([1, 3, 3])"
            ]
          },
          "metadata": {},
          "execution_count": 14
        }
      ]
    },
    {
      "cell_type": "markdown",
      "source": [
        "### Random Tensors\n",
        "random tensors are important because the way many neural network learn is that they start with tensors full of random numbers and then adjust those numbers to better represent the data.\n",
        "\n",
        "\n",
        "\n",
        "``\n",
        "start with random mo.--> look at data--> update random no--> look at data-->update random no.\n",
        "``\n",
        "\n"
      ],
      "metadata": {
        "id": "x586etk0KWZZ"
      }
    },
    {
      "cell_type": "code",
      "source": [
        "# create a random tensor of size(3,4)\n",
        "random_tensor = torch.rand(3,4)\n",
        "random_tensor"
      ],
      "metadata": {
        "colab": {
          "base_uri": "https://localhost:8080/"
        },
        "id": "KLs9pYRPKVD_",
        "outputId": "3825114f-5b6d-4750-fd27-009e29c27bcb"
      },
      "execution_count": null,
      "outputs": [
        {
          "output_type": "execute_result",
          "data": {
            "text/plain": [
              "tensor([[0.5913, 0.5086, 0.1337, 0.8002],\n",
              "        [0.9361, 0.3679, 0.3383, 0.1587],\n",
              "        [0.0965, 0.3438, 0.1352, 0.3310]])"
            ]
          },
          "metadata": {},
          "execution_count": 15
        }
      ]
    },
    {
      "cell_type": "code",
      "source": [
        "# create a random tensor with similar shape to image tensor\n",
        "random_image_size_tensor = torch.rand(size=(3,256,256)) # height=256 , width=256, color channels=3\n",
        "random_image_size_tensor.shape , random_image_size_tensor.ndim"
      ],
      "metadata": {
        "colab": {
          "base_uri": "https://localhost:8080/"
        },
        "id": "436uU80QMpwm",
        "outputId": "a6510ec1-63b7-498c-f3b5-9f26a6f60237"
      },
      "execution_count": null,
      "outputs": [
        {
          "output_type": "execute_result",
          "data": {
            "text/plain": [
              "(torch.Size([3, 256, 256]), 3)"
            ]
          },
          "metadata": {},
          "execution_count": 17
        }
      ]
    },
    {
      "cell_type": "code",
      "source": [
        "random_image_size_tensor"
      ],
      "metadata": {
        "colab": {
          "base_uri": "https://localhost:8080/"
        },
        "id": "gzqFSVfpNNcp",
        "outputId": "fbd4a40c-22f0-4922-c205-ddc4cd2b46c4"
      },
      "execution_count": null,
      "outputs": [
        {
          "output_type": "execute_result",
          "data": {
            "text/plain": [
              "tensor([[[0.2824, 0.2745, 0.6158,  ..., 0.6479, 0.2988, 0.8560],\n",
              "         [0.4281, 0.2199, 0.7767,  ..., 0.2755, 0.0052, 0.2118],\n",
              "         [0.3612, 0.1992, 0.4433,  ..., 0.0954, 0.9924, 0.6944],\n",
              "         ...,\n",
              "         [0.7862, 0.7713, 0.3650,  ..., 0.2182, 0.4303, 0.9526],\n",
              "         [0.9229, 0.9599, 0.9974,  ..., 0.0299, 0.2984, 0.6251],\n",
              "         [0.1856, 0.0349, 0.6207,  ..., 0.2957, 0.5707, 0.1681]],\n",
              "\n",
              "        [[0.9258, 0.5036, 0.8306,  ..., 0.3870, 0.2532, 0.7350],\n",
              "         [0.7536, 0.2946, 0.7431,  ..., 0.0420, 0.4212, 0.1326],\n",
              "         [0.5378, 0.0407, 0.1316,  ..., 0.0905, 0.2531, 0.9329],\n",
              "         ...,\n",
              "         [0.1199, 0.5617, 0.5909,  ..., 0.0167, 0.6343, 0.2092],\n",
              "         [0.8313, 0.6360, 0.3820,  ..., 0.1947, 0.0649, 0.5602],\n",
              "         [0.4853, 0.4424, 0.9178,  ..., 0.8765, 0.0889, 0.9085]],\n",
              "\n",
              "        [[0.8646, 0.5384, 0.3831,  ..., 0.2100, 0.8470, 0.9707],\n",
              "         [0.4488, 0.4819, 0.9149,  ..., 0.3170, 0.5615, 0.8888],\n",
              "         [0.9000, 0.5103, 0.2313,  ..., 0.7610, 0.1317, 0.9776],\n",
              "         ...,\n",
              "         [0.1510, 0.2729, 0.7742,  ..., 0.8653, 0.8506, 0.5601],\n",
              "         [0.1216, 0.8310, 0.4392,  ..., 0.6535, 0.7149, 0.6805],\n",
              "         [0.8994, 0.4950, 0.8987,  ..., 0.9663, 0.1954, 0.4277]]])"
            ]
          },
          "metadata": {},
          "execution_count": 18
        }
      ]
    },
    {
      "cell_type": "markdown",
      "source": [
        "# Zero tensor\n",
        "a tensor containing all zeros"
      ],
      "metadata": {
        "id": "9lKqSPxhQXTL"
      }
    },
    {
      "cell_type": "code",
      "source": [
        "zero_tensor = torch.zeros(size=(1,4,3))\n",
        "zero_tensor"
      ],
      "metadata": {
        "id": "FlUm40i-NTak",
        "colab": {
          "base_uri": "https://localhost:8080/"
        },
        "outputId": "fdc7c05a-0a0b-416d-92cc-b14edd5491a0"
      },
      "execution_count": 5,
      "outputs": [
        {
          "output_type": "execute_result",
          "data": {
            "text/plain": [
              "tensor([[[0., 0., 0.],\n",
              "         [0., 0., 0.],\n",
              "         [0., 0., 0.],\n",
              "         [0., 0., 0.]]])"
            ]
          },
          "metadata": {},
          "execution_count": 5
        }
      ]
    },
    {
      "cell_type": "markdown",
      "source": [
        "# Range Tensor\n",
        "tensor with a range"
      ],
      "metadata": {
        "id": "RJF9PYXVRXwS"
      }
    },
    {
      "cell_type": "code",
      "source": [
        "range_tensor = torch.arange(1,10)\n",
        "range_tensor"
      ],
      "metadata": {
        "colab": {
          "base_uri": "https://localhost:8080/"
        },
        "id": "UnfJcBP5RDxO",
        "outputId": "0a77d137-c461-4418-93e9-813300b7939a"
      },
      "execution_count": 6,
      "outputs": [
        {
          "output_type": "execute_result",
          "data": {
            "text/plain": [
              "tensor([1, 2, 3, 4, 5, 6, 7, 8, 9])"
            ]
          },
          "metadata": {},
          "execution_count": 6
        }
      ]
    },
    {
      "cell_type": "code",
      "source": [
        "range_tensor = torch.arange(start=1,end=100,step=25) #step : gap in range 1+25 ,25+25 etc\n",
        "range_tensor"
      ],
      "metadata": {
        "colab": {
          "base_uri": "https://localhost:8080/"
        },
        "id": "bsWJPQCzSwZ8",
        "outputId": "3beb8316-2313-40ab-fb65-37633272b42b"
      },
      "execution_count": 7,
      "outputs": [
        {
          "output_type": "execute_result",
          "data": {
            "text/plain": [
              "tensor([ 1, 26, 51, 76])"
            ]
          },
          "metadata": {},
          "execution_count": 7
        }
      ]
    },
    {
      "cell_type": "code",
      "source": [
        "# Reshape as 2x2 or matrix tensor\n",
        "range_tensor.reshape(2,2)"
      ],
      "metadata": {
        "colab": {
          "base_uri": "https://localhost:8080/"
        },
        "id": "5RfO6RK4Thkm",
        "outputId": "edea652d-945e-4451-959b-5925a84dbd0b"
      },
      "execution_count": 14,
      "outputs": [
        {
          "output_type": "execute_result",
          "data": {
            "text/plain": [
              "tensor([[ 1, 26],\n",
              "        [51, 76]])"
            ]
          },
          "metadata": {},
          "execution_count": 14
        }
      ]
    },
    {
      "cell_type": "markdown",
      "source": [],
      "metadata": {
        "id": "5YC6F64uUMXW"
      }
    },
    {
      "cell_type": "code",
      "source": [],
      "metadata": {
        "id": "NFHdJm_yUJPX"
      },
      "execution_count": null,
      "outputs": []
    },
    {
      "cell_type": "code",
      "source": [],
      "metadata": {
        "id": "INkD0Tb4ULI8"
      },
      "execution_count": null,
      "outputs": []
    },
    {
      "cell_type": "code",
      "source": [],
      "metadata": {
        "id": "8gurrZNyULBe"
      },
      "execution_count": null,
      "outputs": []
    },
    {
      "cell_type": "code",
      "source": [],
      "metadata": {
        "id": "81SDbOJWUK9H"
      },
      "execution_count": null,
      "outputs": []
    }
  ]
}